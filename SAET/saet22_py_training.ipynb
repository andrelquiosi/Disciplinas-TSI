{
 "cells": [
  {
   "cell_type": "markdown",
   "metadata": {},
   "source": [
    "# Minicurso Python Training \\#0.5  - SAET'2019 - Exercícios\n",
    "\n",
    "Este é um pequeno conjunto de exercícios para testar sua compreensão sobre alguns aspectos da linguagem ``Python`` apresentados no minicurso. Lembrando que a proficiência em uma nova linguagem de programação vem da prática deliberada.\n",
    "\n",
    "---\n",
    "\n",
    "**Instruções**: Leia o exercício e insira as instruções necessárias para completar a tarefa na célula de código correspondente, isto é, aquelas marcadas com ``In []:``. Se necessário como referência a saída desejada.  Para executar a célula de código, posicione dentro dela e pressione ``Ctrl``+``Enter``.\n",
    "\n",
    "---"
   ]
  },
  {
   "cell_type": "markdown",
   "metadata": {},
   "source": [
    "1) **Usando o operador de potência exiba o valor de $2^{32}$** "
   ]
  },
  {
   "cell_type": "code",
   "execution_count": null,
   "metadata": {},
   "outputs": [],
   "source": []
  },
  {
   "cell_type": "markdown",
   "metadata": {},
   "source": [
    "2) **Quebre a frase seguinte em uma lista. Depois indexe a lista para obter apenas *hobbit***.\n",
    "\n",
    "```python\n",
    "\"Numa toca no chão vivia um hobbit\"\n",
    "```"
   ]
  },
  {
   "cell_type": "code",
   "execution_count": null,
   "metadata": {},
   "outputs": [],
   "source": []
  },
  {
   "cell_type": "markdown",
   "metadata": {},
   "source": [
    "3) **Considere as variáveis:**\n",
    "\n",
    "```python\n",
    "planet = \"Terra\"\n",
    "diameter = 12742\n",
    "```\n",
    "\n",
    "**Use format para exibir a mensagem:**\n",
    "\n",
    "*O diâmetro da Terra é de 12742 km.*"
   ]
  },
  {
   "cell_type": "code",
   "execution_count": null,
   "metadata": {},
   "outputs": [],
   "source": []
  },
  {
   "cell_type": "markdown",
   "metadata": {},
   "source": [
    "4) **Considerando a lista seguinte, utilize indexação para obter apenas *olá***.\n",
    "```python\n",
    "lst = [1, 2, [3, 4], [5, [100, 200, ['olá']], 23, 11], 1, 42]\n",
    "```\n"
   ]
  },
  {
   "cell_type": "code",
   "execution_count": null,
   "metadata": {},
   "outputs": [],
   "source": []
  },
  {
   "cell_type": "markdown",
   "metadata": {},
   "source": [
    "\n",
    "5) **Considerando o dicionário seguinte, utilize indexação para obter apenas *olá***.\n",
    "```python\n",
    "d = {'k1':[1, 2, 3, {'ama':['banana','mulher','colher',{'alvo':[1, 2, 3, 'olá']}]}]}\n",
    "```\n"
   ]
  },
  {
   "cell_type": "code",
   "execution_count": null,
   "metadata": {},
   "outputs": [],
   "source": []
  },
  {
   "cell_type": "markdown",
   "metadata": {},
   "source": [
    "6) **Implemente uma função ``parse_domain(mailbox)`` que deve devolver o domínio de um endereço de email passado em ``mailbox``.**\n",
    "\n",
    "```python\n",
    "print(parse_domain(\"faspanhol@gmail.com\"))\n",
    "\"gmail.com\"\n",
    "\n",
    "```"
   ]
  },
  {
   "cell_type": "code",
   "execution_count": null,
   "metadata": {},
   "outputs": [],
   "source": []
  },
  {
   "cell_type": "markdown",
   "metadata": {},
   "source": [
    "7) **O desvio padrão de uma relação de números reais é a raiz quadrada da média aritmética dos quadrados dos desvios, isto é, $ s = \\sqrt{\\frac{1}{N}\\sum_{i=1}^{N}(x_{i}-\\mu)^{2}}$, sendo que µ é a média. Implemente um *script* que a partir de uma relação de números reais fornece o respectivo desvio padrão. Para tanto implemente as funções ``avg``, que recebe uma relação de números e cálcula a média aritmética; e ``std`` que recebe uma relação de números reais e cálcula o desvio padrão**"
   ]
  },
  {
   "cell_type": "code",
   "execution_count": null,
   "metadata": {},
   "outputs": [],
   "source": []
  },
  {
   "cell_type": "markdown",
   "metadata": {},
   "source": [
    "8) **Muitas aplicações utilizam o conceito de dígito verificador: um número de uma conta corrente, de um número de matrícula de um estudante de uma escola, o cadastro de pessoas físicas (CPF) mantido pela Receita Federal, etc. O dígito verificador serve para a prevenção de possíveis erros de digitação. Por exemplo, se a matrícula 30245-7 fosse digitada erroneamente como ``39245-7``, o erro seria detectado, pois o dígito verificador da conta ``39245`` seria ``6`` e não ``7``. Existem vários métodos para a determinação do dígito verificador. Por exemplo, considere a validação do dígito verificador de uma conta corrente de uma instituição bancária, conforme o seguinte algoritmo:**\n",
    "\n",
    "---\n",
    "```\n",
    "1. Multiplicam-se os números correspondentes aos dígitos da conta, da direita para esquerda, por 2, por 3, etc.\n",
    "2. Somam-se os produtos obtidos no item 1.\n",
    "3. Determina-se o resto da divisão da soma obtida no item 2 por 11.\n",
    "4. Subtrai-se de 11 o resto obtido no item 3.\n",
    "5. Se o valor obtido no item 4 for 10 ou 11, o dígito verificado é igual a zero; senão, o dígito é o valor obtido no item referido.\n",
    "```\n",
    "---\n",
    "\n",
    "**Por exemplo, se o número da conta for ``30245``, temos:**\n",
    "```\n",
    "1. 5*2 = 10, 4*3 = 12, 2*4 = 8, 0*5 = 0, 3*6 = 18\n",
    "2. 10 + 12 + 8 + 0 + 18 = 48\n",
    "3. Resto(48, 11) = 4\n",
    "4. 11 - 4 = 7\n",
    "5. Dígito verificador = 7.\n",
    "```\n",
    "\n",
    "**Partindo de tais considerações, implemente uma função chamada ``is_valid_account`` que recebe um número de conta e testa o dígito verificador. O dígito pode vir separado por um hífen (-) ou simplesmente ser o último dígito do número passado por parâmetro. A função deve retornar um valor lógico, sendo true quando o número está correto e false caso contrário. Faça um programa para testar a função.**\n",
    "\n"
   ]
  },
  {
   "cell_type": "code",
   "execution_count": null,
   "metadata": {},
   "outputs": [],
   "source": []
  },
  {
   "cell_type": "markdown",
   "metadata": {},
   "source": [
    "9) **Na metemática, a persistência de um número inteiro é a quantidade de vezes que deve-se aplicar uma dada operação até obter um valor que não mais se altera. Por exemplo, a persistência multiplicativa de $39$ é $3$, pois precisamos de três passos para reduzir $39$ a um único dígito: ```39 → 3*9 = 27 → 2*7 = 14 → 4 = 1*4```. Além disso, $39$ é o menor número cuja persistência multiplicativa é $3$. Curiosamente, para a base $10$, não há números com persistência multiplicativa maior que $11$, testados valores até $10^{233}$. Os menores números com as respectivas persistências multiplicativas de $0, 1, ...$ são: $0, 10, 25, 39, 77, 679, 6788, 68889, 2677889, 26888999, 3778888999, 277777788888899$. [sequência A003001 na OEIS](https://oeis.org/). Faça um script que leia um inteiro *n* qualquer e mostre sua persistência multiplicativa bem como as operações realizadas. Veja a seguir um exemplo de saída a ser gerada.**\n",
    "\n",
    "```\n",
    "Número informado: 48\n",
    "Persistência multiplicativa: 2\n",
    "    Operação #1: 48 → 4 * 8 = 32\n",
    "    Operação #2: 32 → 3 * 2 = 6\n",
    "```\n"
   ]
  },
  {
   "cell_type": "code",
   "execution_count": null,
   "metadata": {},
   "outputs": [],
   "source": []
  },
  {
   "cell_type": "markdown",
   "metadata": {},
   "source": [
    "10) **Um tripla pitagórica (ou terno pitagórico) consiste em três inteiros positivos $a$, $b$ e $c$, tal que $a^2 + b^2 = c^2$. Utilizando *list comprehension* crie a lista seguinte contendo triplas pitagóricas para $1 <= a, b, c <= 30$**\n",
    "\n",
    "\n",
    "```python\n",
    "[(3, 4, 5), (5, 12, 13), (6, 8, 10), (7, 24, 25), (8, 15, 17), (9, 12, 15), (10, 24, 26), (12, 16, 20), (15, 20, 25), (20, 21, 29)]\n",
    "```\n",
    "\n"
   ]
  },
  {
   "cell_type": "code",
   "execution_count": null,
   "metadata": {},
   "outputs": [],
   "source": []
  },
  {
   "cell_type": "markdown",
   "metadata": {},
   "source": [
    "11) **Aplique *lambda* e *filter* em uma lista para obter uma nova lista composta apenas pelos items que iniciam com *j***\n",
    "\n",
    "```python\n",
    "['gather', 'gaze', 'jail', 'jam', 'greet', 'grin', 'grip', 'glow', 'jog', 'join', 'groan', 'joke', 'judge', 'juggle', 'gather', 'guard', 'jump', 'guess','guide']\n",
    "```\n"
   ]
  },
  {
   "cell_type": "code",
   "execution_count": null,
   "metadata": {},
   "outputs": [],
   "source": []
  },
  {
   "cell_type": "markdown",
   "metadata": {},
   "source": [
    "---\n",
    "Fabio Alexandre **SPANHOL** <faspanhol@gmail.com>\n",
    "\n",
    "*Updated: sep 02 2019*"
   ]
  }
 ],
 "metadata": {
  "kernelspec": {
   "display_name": "Python 3",
   "language": "python",
   "name": "python3"
  },
  "language_info": {
   "codemirror_mode": {
    "name": "ipython",
    "version": 3
   },
   "file_extension": ".py",
   "mimetype": "text/x-python",
   "name": "python",
   "nbconvert_exporter": "python",
   "pygments_lexer": "ipython3",
   "version": "3.7.3"
  }
 },
 "nbformat": 4,
 "nbformat_minor": 2
}
